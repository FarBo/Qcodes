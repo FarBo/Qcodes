{
 "cells": [
  {
   "cell_type": "markdown",
   "metadata": {},
   "source": [
    "# Deeper dive on qcodes doNd functionalities with a focus on arrayed sweeping benefits\n",
    "\n",
    "In this example notebook, we want to show how the qcodes measurement can be simplified with using qcodes doNd functions. Also. we test 2-dimentional sweeping with a naive point by point sweeping over x and y axis and measure z axis values compared to sweeping over x axis and considering y axis as an array of numbers to measure z axis values. The array method can be useful in buffered data acquisitions from instruments that have buffer to write data. Then, the measurement time can be enhanced significantly."
   ]
  },
  {
   "cell_type": "markdown",
   "metadata": {},
   "source": [
    "## Necessary imports"
   ]
  },
  {
   "cell_type": "code",
   "execution_count": 1,
   "metadata": {},
   "outputs": [],
   "source": [
    "from qcodes import initialise_or_create_database_at\n",
    "import qcodes as qc\n",
    "import time\n",
    "import numpy as np\n",
    "from qcodes import load_or_create_experiment, Measurement, Parameter\n",
    "from qcodes.utils.dataset import doNd"
   ]
  },
  {
   "cell_type": "markdown",
   "metadata": {},
   "source": [
    "## Creating a database or loading it"
   ]
  },
  {
   "cell_type": "code",
   "execution_count": 2,
   "metadata": {},
   "outputs": [],
   "source": [
    "initialise_or_create_database_at('test.db')"
   ]
  },
  {
   "cell_type": "markdown",
   "metadata": {},
   "source": [
    "Open a cmd or shell and run plottr-inspectr in the activated qcodes environment (assuming you already installed plottr in that \n",
    "environment). Then load the created database in the plottr window and check the the box \"Auto-plot new\". This is an \n",
    "encourged data visualization tool for qcodes datasets."
   ]
  },
  {
   "cell_type": "markdown",
   "metadata": {},
   "source": [
    "## point by point 2D sweep over x and y"
   ]
  },
  {
   "cell_type": "code",
   "execution_count": 3,
   "metadata": {},
   "outputs": [
    {
     "name": "stdout",
     "output_type": "stream",
     "text": [
      "Starting experimental run with id: 93. \n",
      "Meaurement took 286.6251063346863 seconds\n"
     ]
    }
   ],
   "source": [
    "# This cell (#1) is a very naive way of generating an example 2d plot in plottr and time it. This uses single sweep points\n",
    "# for both x and y directions, so it is quit slow.\n",
    "\n",
    "xvals = np.linspace(-5, 5, 51)\n",
    "yvals = np.linspace(-5, 5, 51)\n",
    "xx, yy = np.meshgrid(xvals, yvals, indexing='ij')\n",
    "zz = np.cos(xx) * np.sin(yy)\n",
    "\n",
    "def very_simple_2d_sweep():\n",
    "    for i, x in enumerate(xvals):\n",
    "        for j, y in enumerate(yvals):\n",
    "            yield x, y, zz[i, j]\n",
    "\n",
    "# configure the qcodes setup\n",
    "x = Parameter('x')\n",
    "y = Parameter('y')\n",
    "z = Parameter('z')\n",
    "station = qc.Station(x, y, z)\n",
    "exp = load_or_create_experiment('very_simple_2d_sweep', sample_name='no sample')\n",
    "\n",
    "# set up the measurement\n",
    "meas = Measurement(exp, station)\n",
    "meas.register_parameter(x)\n",
    "meas.register_parameter(y)\n",
    "meas.register_parameter(z, setpoints=(x, y))\n",
    "meas.write_period = 2\n",
    "\n",
    "# and start recording\n",
    "t1 = time.time()\n",
    "with meas.run() as datasaver:\n",
    "    for xval, yval, zval in very_simple_2d_sweep():\n",
    "        datasaver.add_result(\n",
    "            ('x', xval),\n",
    "            ('y', yval),\n",
    "            ('z', zval),\n",
    "        )\n",
    "        time.sleep(0.1)\n",
    "t2 = time.time()\n",
    "print(f'Meaurement took {t2-t1} seconds')"
   ]
  },
  {
   "cell_type": "markdown",
   "metadata": {},
   "source": [
    "## Sweeping over x and considering y as an array"
   ]
  },
  {
   "cell_type": "code",
   "execution_count": 4,
   "metadata": {},
   "outputs": [
    {
     "name": "stdout",
     "output_type": "stream",
     "text": [
      "Starting experimental run with id: 94. \n",
      "Meaurement took 10.624388217926025 seconds\n"
     ]
    }
   ],
   "source": [
    "# This cell (#2) is for producing the same plot in the above cell with a difference that it uses arrays instead of single\n",
    "# points for y direction, which means that it is much faster than cell #1.\n",
    "\n",
    "xvals = np.linspace(-5, 5, 51)\n",
    "yvals = np.linspace(-5, 5, 51)\n",
    "xx, yy = np.meshgrid(xvals, yvals, indexing='ij')\n",
    "zz = np.cos(xx) * np.cos(yy)\n",
    "\n",
    "def simple_2d_sweep():\n",
    "    for i, x in enumerate(xvals):\n",
    "        yield x, yy[i, :], zz[i, :]\n",
    "\n",
    "# configure qcodes setup\n",
    "x = Parameter('x')\n",
    "y = Parameter('y')\n",
    "z = Parameter('z')\n",
    "station = qc.Station(x, y, z)\n",
    "exp = load_or_create_experiment('simple_2d_sweep', sample_name='no sample')\n",
    "\n",
    "# set up measurement\n",
    "meas = Measurement(exp, station)\n",
    "meas.register_parameter(x)\n",
    "meas.register_parameter(y)\n",
    "meas.register_parameter(z, setpoints=(x, y))\n",
    "meas.write_period = 2\n",
    "\n",
    "# start measuring\n",
    "t1 = time.time()\n",
    "with meas.run() as datasaver:\n",
    "    for xval, yval, zval in simple_2d_sweep():\n",
    "        datasaver.add_result(\n",
    "            (x, xval),\n",
    "            (y, yval),\n",
    "            (z, zval),\n",
    "        )\n",
    "        time.sleep(0.2)\n",
    "\n",
    "t2 = time.time()\n",
    "print(f'Meaurement took {t2-t1} seconds')"
   ]
  },
  {
   "cell_type": "markdown",
   "metadata": {},
   "source": [
    "## point by point 2D sweep over x and y using qcodes do2d"
   ]
  },
  {
   "cell_type": "code",
   "execution_count": 5,
   "metadata": {},
   "outputs": [
    {
     "name": "stdout",
     "output_type": "stream",
     "text": [
      "Starting experimental run with id: 95. \n",
      "Meaurement took 294.2648720741272 seconds\n"
     ]
    }
   ],
   "source": [
    "# This cell (#3) is for producing the same result as the cell #1 with the differnce that it uses qcodes do2d function for\n",
    "# simplyfing measurement setup. \n",
    "\n",
    "def very_simple_2d_sweep_do2d():\n",
    "    return np.cos(x()) * np.sin(y())\n",
    "\n",
    "# configure the qcodes setup\n",
    "x = Parameter('x', set_cmd=None)\n",
    "y = Parameter('y', set_cmd=None)\n",
    "z = Parameter('z', get_cmd=lambda:float(very_simple_2d_sweep_do2d()))\n",
    "station = qc.Station(x, y, z)\n",
    "exp = load_or_create_experiment('very_simple_2d_sweep_do2d', sample_name='no sample')\n",
    "\n",
    "t1 = time.time()\n",
    "doNd.do2d(x, -5, 5, 51, 0.1, y, -5, 5, 51, 0.1, z, do_plot=False)\n",
    "t2 = time.time()\n",
    "print(f'Meaurement took {t2-t1} seconds')"
   ]
  },
  {
   "cell_type": "markdown",
   "metadata": {},
   "source": [
    "## Sweeping over x and considering y as an array and using qcodes do1d"
   ]
  },
  {
   "cell_type": "code",
   "execution_count": 6,
   "metadata": {},
   "outputs": [
    {
     "name": "stdout",
     "output_type": "stream",
     "text": [
      "Starting experimental run with id: 96. \n",
      "Meaurement took 10.48732614517212 seconds\n"
     ]
    }
   ],
   "source": [
    "# This cell (#4) is for producing the same result as the cell #2 with the differnce that it uses qcodes do1d function for\n",
    "# simplyfing measurement setup. So, it generates the same result as cell #3 with a much faster rate. \n",
    "\n",
    "        \n",
    "def simple_2d_sweep_do1d():\n",
    "        return np.cos(x()) * np.sin(y())\n",
    "\n",
    "\n",
    "# configure qcodes setup\n",
    "x = Parameter('x', set_cmd=None)\n",
    "y = Parameter('y', get_cmd=lambda: np.linspace(-5, 5, 51))\n",
    "z = Parameter('z', get_cmd=lambda: simple_2d_sweep_do1d())\n",
    "\n",
    "station = qc.Station(x, y, z)\n",
    "exp = load_or_create_experiment('simple_2d_sweep_do1d', sample_name='no sample')\n",
    "\n",
    "t1 = time.time()\n",
    "doNd.do1d(x, -5, 5, 51, 0.2, z, additional_setpoints = [y], do_plot=False)\n",
    "t2 = time.time()\n",
    "print(f'Meaurement took {t2-t1} seconds')"
   ]
  },
  {
   "cell_type": "code",
   "execution_count": null,
   "metadata": {},
   "outputs": [],
   "source": []
  }
 ],
 "metadata": {
  "kernelspec": {
   "display_name": "Python 3",
   "language": "python",
   "name": "python3"
  },
  "language_info": {
   "codemirror_mode": {
    "name": "ipython",
    "version": 3
   },
   "file_extension": ".py",
   "mimetype": "text/x-python",
   "name": "python",
   "nbconvert_exporter": "python",
   "pygments_lexer": "ipython3",
   "version": "3.7.9"
  }
 },
 "nbformat": 4,
 "nbformat_minor": 4
}
